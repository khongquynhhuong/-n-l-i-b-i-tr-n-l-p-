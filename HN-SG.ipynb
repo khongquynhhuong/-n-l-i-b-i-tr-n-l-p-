{
 "cells": [
  {
   "cell_type": "code",
   "execution_count": null,
   "id": "316ec3c6",
   "metadata": {},
   "outputs": [],
   "source": [
    "Python set va dictionary"
   ]
  },
  {
   "cell_type": "code",
   "execution_count": null,
   "id": "f8ff0b38",
   "metadata": {},
   "outputs": [],
   "source": [
    "Set trong Python là một tập hợp các phần tử không có thứ tự, mỗi phần tử có thể mang kiểu dữ liệu là string,int,...\n",
    "Cách khai báo 1 set:\n",
    "    Set trong Pyhton được khởi tạo bên trong dấu ngoặc nhọn {} và mỗi phần tử phân biệt bằng dấu phẩy.\n"
   ]
  },
  {
   "cell_type": "code",
   "execution_count": 1,
   "id": "b4bea7a5",
   "metadata": {},
   "outputs": [
    {
     "name": "stdout",
     "output_type": "stream",
     "text": [
      "{1, 2, 3, 4, 5}\n"
     ]
    }
   ],
   "source": [
    "s1 = {1,2,3,4,5}\n",
    "print(s1)"
   ]
  },
  {
   "cell_type": "code",
   "execution_count": null,
   "id": "8ea437fa",
   "metadata": {},
   "outputs": [],
   "source": [
    "1 số hàm thường sử dụng trong set"
   ]
  },
  {
   "cell_type": "code",
   "execution_count": 12,
   "id": "72b39c9e",
   "metadata": {},
   "outputs": [
    {
     "name": "stdout",
     "output_type": "stream",
     "text": [
      "{'hello', 1, 2, 3, 4, 5}\n",
      "{1, 2, 3, 4, 5, 'a', 'b', 'c'}\n"
     ]
    }
   ],
   "source": [
    "# add là hàm sẽ chèn thêm 1 phần tử vào set\n",
    "s1 = {1,2,3,4,5}\n",
    "s1.add(\"hello\")\n",
    "print(s1)\n",
    "#update là hàm giúp ta chèn được nhiều phần tử hơn vào set bằng cách gộp 2 set lại với nhau\n",
    "s1={1,2,3,4,5}\n",
    "s2={'a','b','c'}\n",
    "s1.update(s2)\n",
    "print(s1)"
   ]
  },
  {
   "cell_type": "code",
   "execution_count": null,
   "id": "f050c7e8",
   "metadata": {},
   "outputs": [],
   "source": [
    "Dictionary trong Python cũng được bao bọc bởi dấu ngoặc nhọn và mỗi phần tử cũng được ngăn cách bởi dấu phẩy\n",
    "nhưng trong dictionary môĩ phần tử sẽ là 1 cặp key:value\n"
   ]
  },
  {
   "cell_type": "code",
   "execution_count": 13,
   "id": "cf6eb3c2",
   "metadata": {},
   "outputs": [
    {
     "name": "stdout",
     "output_type": "stream",
     "text": [
      "{1: 'Welcome', 2: 'To', 3: 'HN-SG'}\n"
     ]
    }
   ],
   "source": [
    "# EX:\n",
    "s2 = {1:'Welcome',2:'To',3:'HN-SG'}\n",
    "print(s2)"
   ]
  },
  {
   "cell_type": "code",
   "execution_count": null,
   "id": "dbb38547",
   "metadata": {},
   "outputs": [],
   "source": [
    "Chúng ta truy cập phần tử của dictionary và lấy value dựa vào key của chúng"
   ]
  },
  {
   "cell_type": "code",
   "execution_count": 14,
   "id": "861b5128",
   "metadata": {},
   "outputs": [
    {
     "name": "stdout",
     "output_type": "stream",
     "text": [
      "HN-SG\n"
     ]
    }
   ],
   "source": [
    "# EX\n",
    "s2 = {1:'Welcome',2:'To',3:'HN-SG'}\n",
    "print(s2[3])"
   ]
  },
  {
   "cell_type": "code",
   "execution_count": null,
   "id": "0e5e4b4b",
   "metadata": {},
   "outputs": [],
   "source": [
    "Có 3 cách lặp:\n",
    "    1.Lặp qua key\n",
    "    2.Lặp qua value\n",
    "    3.Lặp cái cặp key,value(item)"
   ]
  },
  {
   "cell_type": "code",
   "execution_count": 15,
   "id": "59d5caac",
   "metadata": {},
   "outputs": [
    {
     "name": "stdout",
     "output_type": "stream",
     "text": [
      "1\n",
      "2\n",
      "3\n"
     ]
    }
   ],
   "source": [
    "# Lạp qua key\n",
    "s2 = {1:'Welcome',2:'To',3:'HN-SG'}\n",
    "for key in s2:\n",
    "    print(key)"
   ]
  },
  {
   "cell_type": "code",
   "execution_count": 16,
   "id": "927238a9",
   "metadata": {},
   "outputs": [
    {
     "name": "stdout",
     "output_type": "stream",
     "text": [
      "Welcome\n",
      "To\n",
      "HN-SG\n"
     ]
    }
   ],
   "source": [
    "#Lap qua value\n",
    "s2 = {1:'Welcome',2:'To',3:'HN-SG'}\n",
    "for value in s2.values():\n",
    "    print(value)"
   ]
  },
  {
   "cell_type": "code",
   "execution_count": 18,
   "id": "2846f453",
   "metadata": {},
   "outputs": [
    {
     "name": "stdout",
     "output_type": "stream",
     "text": [
      "1 : Welcome\n",
      "2 : To\n",
      "3 : HN-SG\n"
     ]
    }
   ],
   "source": [
    "#Lap qua key-value\n",
    "s2 = {1:'Welcome',2:'To',3:'HN-SG'}\n",
    "for key,value in s2.items():\n",
    "    print(key, ':',value)"
   ]
  },
  {
   "cell_type": "code",
   "execution_count": null,
   "id": "fb630ff1",
   "metadata": {},
   "outputs": [],
   "source": []
  }
 ],
 "metadata": {
  "kernelspec": {
   "display_name": "Python 3 (ipykernel)",
   "language": "python",
   "name": "python3"
  },
  "language_info": {
   "codemirror_mode": {
    "name": "ipython",
    "version": 3
   },
   "file_extension": ".py",
   "mimetype": "text/x-python",
   "name": "python",
   "nbconvert_exporter": "python",
   "pygments_lexer": "ipython3",
   "version": "3.9.13"
  }
 },
 "nbformat": 4,
 "nbformat_minor": 5
}
