{
 "cells": [
  {
   "cell_type": "markdown",
   "id": "69316cc1",
   "metadata": {},
   "source": [
    "### Bài 1"
   ]
  },
  {
   "cell_type": "markdown",
   "id": "17d5756e",
   "metadata": {},
   "source": [
    "Viết Hàm my_info() nhận vào 2 tham số name và course, sau đó in ra thông tin tương ứng .</p>\n",
    "Ví dụ : my_info('Nam','Python')</p>\n",
    "    Output: </p>\n",
    "        My name is Nam </p>\n",
    "        I'am studying Python "
   ]
  },
  {
   "cell_type": "code",
   "execution_count": 12,
   "id": "028d0d79",
   "metadata": {},
   "outputs": [
    {
     "name": "stdout",
     "output_type": "stream",
     "text": [
      "My name is Nam\n",
      "I'm studying Python\n"
     ]
    }
   ],
   "source": [
    "def my_info(name,course):\n",
    "    # code below this line\n",
    "    print(f\"My name is {name}\")\n",
    "    print(f\"I'm studying {course}\")\n",
    "    # code above this line \n",
    "my_info('Nam','Python')"
   ]
  },
  {
   "cell_type": "markdown",
   "id": "18cc0594",
   "metadata": {},
   "source": [
    "### Bài  2 "
   ]
  },
  {
   "cell_type": "markdown",
   "id": "5ee884c4",
   "metadata": {},
   "source": [
    "Viết hàm sum_even() nhận vào một số n và in ra tổng số chẵn từ 2 tới n . </p>\n",
    "Ví dụ : sum_even(10) </p>\n",
    "    Output: 30"
   ]
  },
  {
   "cell_type": "code",
   "execution_count": 13,
   "id": "7fd53504",
   "metadata": {},
   "outputs": [
    {
     "name": "stdout",
     "output_type": "stream",
     "text": [
      "30\n"
     ]
    }
   ],
   "source": [
    "def sum_even(n):\n",
    "    # code below this line \n",
    "    tong = 0\n",
    "    for i in range(2,n+1,2):\n",
    "        tong +=i\n",
    "    print(tong)\n",
    "    # code above this line\n",
    "sum_even(10)"
   ]
  },
  {
   "cell_type": "markdown",
   "id": "712dd142",
   "metadata": {},
   "source": [
    "### Bài 3"
   ]
  },
  {
   "cell_type": "markdown",
   "id": "e1abe5b9",
   "metadata": {},
   "source": [
    "Viết hàm easy_math() nhận vào 3 tham số num1,num2,op, để thực hiện phép tính tương ứng và in ra kết quả.</p>\n",
    "Ví dụ : easy_math(5,'+',5) </p>\n",
    "    Output: 10"
   ]
  },
  {
   "cell_type": "code",
   "execution_count": 19,
   "id": "e12767ae",
   "metadata": {},
   "outputs": [
    {
     "name": "stdout",
     "output_type": "stream",
     "text": [
      "25\n"
     ]
    }
   ],
   "source": [
    "def easy_math (num1,op,num2):\n",
    "    # code below this line\n",
    "    if op == '+':\n",
    "        print(num1 + num2)\n",
    "    elif op =='-':\n",
    "        print(num1-num2)\n",
    "    elif op == '*':\n",
    "        print(num1*num2)\n",
    "    elif op == '/':\n",
    "            print(num1/num2)\n",
    "    #cách 2\n",
    "    print(eval(str(num1)+op+str(num2)))\n",
    "    # code above this line\n",
    "easy_math(5,'*',5)"
   ]
  },
  {
   "cell_type": "markdown",
   "id": "28155cbe",
   "metadata": {},
   "source": [
    "### Bài 4 : "
   ]
  },
  {
   "cell_type": "markdown",
   "id": "4f7de14a",
   "metadata": {},
   "source": [
    "Viết hàm check_even() nhận vào một số number và kiểm tra xem number có phải số chẵn hay không.</p>\n",
    "Ví dụ : check_even(5)</p>\n",
    "    Ouput: 5 là số lẻ"
   ]
  },
  {
   "cell_type": "code",
   "execution_count": 21,
   "id": "9bd5a230",
   "metadata": {},
   "outputs": [
    {
     "name": "stdout",
     "output_type": "stream",
     "text": [
      "4 là số chẵn\n"
     ]
    }
   ],
   "source": [
    "def check_even(number):\n",
    "    #code below this line\n",
    "    if number % 2 == 0:\n",
    "        print(f\"{number} là số chẵn\")\n",
    "    else:\n",
    "        print(f\"{number} là số lẻ\")\n",
    "    # code above this line \n",
    "check_even(4)"
   ]
  },
  {
   "cell_type": "markdown",
   "id": "ac731a5c",
   "metadata": {},
   "source": [
    "### Bài 5 "
   ]
  },
  {
   "cell_type": "markdown",
   "id": "c8d3029a",
   "metadata": {},
   "source": [
    "Viết hàm transform_str() nhận vào tham số string và in ra string ở dưới dạng là Uppercase và lowercase.</p>\n",
    "Ví dụ : transform_str(\"Function Is Magic!\")</p>\n",
    "    Output:</p>\n",
    "        Lowercase: function is magic!</p>\n",
    "        Uppercase: FUNCTION IS MAGIC!"
   ]
  },
  {
   "cell_type": "code",
   "execution_count": 22,
   "id": "15cd0bda",
   "metadata": {},
   "outputs": [
    {
     "name": "stdout",
     "output_type": "stream",
     "text": [
      "Lowercase: fuction is magic\n",
      "Uppercase:FUCTION IS MAGIC\n"
     ]
    }
   ],
   "source": [
    "def transform_str(string):\n",
    "    #code below this line\n",
    "    print(f\"Lowercase: {string.lower()}\")\n",
    "    print(f\"Uppercase:{string.upper()}\")\n",
    "    # code above this line\n",
    "transform_str(\"Fuction Is Magic\")"
   ]
  },
  {
   "cell_type": "markdown",
   "id": "6486d1a9",
   "metadata": {},
   "source": [
    "### Bài 6:"
   ]
  },
  {
   "cell_type": "markdown",
   "id": "42ecab7b",
   "metadata": {},
   "source": [
    "viết hàm calculate_factorial() nhận vào tham số number và in ra giai thừa của tham số đó.</p>\n",
    "Ví dụ: calculate_factorial(5)</p>\n",
    "    Output: 120"
   ]
  },
  {
   "cell_type": "code",
   "execution_count": 25,
   "id": "e8fd812f",
   "metadata": {},
   "outputs": [
    {
     "name": "stdout",
     "output_type": "stream",
     "text": [
      "720\n"
     ]
    }
   ],
   "source": [
    "def calculate_factorial(number):\n",
    "    # code below this line\n",
    "    factorital = 1\n",
    "    for i in range(1,number+1):\n",
    "        factorital *=i\n",
    "    print(factorital)\n",
    "    # code above this line\n",
    "calculate_factorial(6)"
   ]
  },
  {
   "cell_type": "markdown",
   "id": "8106f04b",
   "metadata": {},
   "source": [
    "### Bài 7"
   ]
  },
  {
   "cell_type": "markdown",
   "id": "e5fd0a62",
   "metadata": {},
   "source": [
    "Dãy Fibonacci là dãy vô hạn các số tự nhiên bắt đầu bằng 1 và 1, sau đó là các số tiếp theo sẽ bằng tổng 2 số liền trước của nó.</p>\n",
    "Cụ thể , các số  đầu tiên của dãy Fibonacci là : 1,1,2,3,5,8,13,21,34,55,89,114,233,.....</p>\n",
    "    Yêu cầu : Viết chương trình find_fibo() nhận vào tham số index và in ra số Fibonacci ở vị trí index. Nếu index bằng 0 thì in ra 0 .</p>\n",
    "        ví dụ : find_fibo(1)</p> \n",
    "        Output : 1\n"
   ]
  },
  {
   "cell_type": "code",
   "execution_count": 35,
   "id": "a07ac8e0",
   "metadata": {},
   "outputs": [
    {
     "name": "stdout",
     "output_type": "stream",
     "text": [
      "3\n"
     ]
    }
   ],
   "source": [
    "# index: 0 1 2 3 4\n",
    "# fibo : 0 1 1 2 3\n",
    "def find_fibo(index):\n",
    "    # code below this line\n",
    "    if index == 0 or index ==1:\n",
    "        print(index)\n",
    "    else:\n",
    "        n1 = 0\n",
    "        n2 = 1\n",
    "        fibo = 0\n",
    "        for i in range(2,index+1):\n",
    "            fibo = n1 + n2\n",
    "            n1 = n2\n",
    "            n2 =fibo\n",
    "        print(fibo)\n",
    "    #code above this line\n",
    "find_fibo(4)"
   ]
  },
  {
   "cell_type": "markdown",
   "id": "8ad1e67b",
   "metadata": {},
   "source": [
    "### Bài 8:"
   ]
  },
  {
   "cell_type": "markdown",
   "id": "fb36af24",
   "metadata": {},
   "source": [
    "Viết hàm find_divisors() nhận vào một số nguyên dương number và in ra tất cả các ước của number. </p>\n",
    "ví dụ : find_divisors(24)</p>\n",
    "    Output: ước cảu 24 là : 1,2,3,4,6,8,12,24"
   ]
  },
  {
   "cell_type": "code",
   "execution_count": 29,
   "id": "281e0d14",
   "metadata": {},
   "outputs": [
    {
     "name": "stdout",
     "output_type": "stream",
     "text": [
      "Ước của 16 là :1, 2, 4, 8, 16\n"
     ]
    }
   ],
   "source": [
    "def find_divisors(number):\n",
    "    # code below this line\n",
    "    print(f\"Ước của {number} là :\",end='')\n",
    "    for i in range(1,number):\n",
    "        if not number % i:\n",
    "            print(i,end=\", \")\n",
    "    print(number)\n",
    "    # code above this line\n",
    "find_divisors(16)"
   ]
  },
  {
   "cell_type": "markdown",
   "id": "e052309f",
   "metadata": {},
   "source": [
    "### Bài 9:\n"
   ]
  },
  {
   "cell_type": "markdown",
   "id": "5bcd8937",
   "metadata": {},
   "source": [
    "Viết hàm solve_equation() để giải phường trình bậc nhất ax+b=0 với a và b là tham số đầu vào .</p>\n",
    "Ví dụ : solve_equation(2,-4)</p>\n",
    "    Ouput: x = 2</p>\n",
    "    solve_equation(0,0)</p>\n",
    "    Output: Phương trình vô số nghiệm\n",
    "    "
   ]
  },
  {
   "cell_type": "code",
   "execution_count": 31,
   "id": "b4e534f9",
   "metadata": {},
   "outputs": [
    {
     "name": "stdout",
     "output_type": "stream",
     "text": [
      "Phương trình có nghiệm x = 0.75\n"
     ]
    }
   ],
   "source": [
    "def solve_equation(a,b):\n",
    "    # code below this line\n",
    "    if a==0:\n",
    "        if b==0:\n",
    "            print(\"Phương trình có vô số nghiệm\")\n",
    "        else:\n",
    "            print(\"Phương trình vô nghiệm\")\n",
    "    else:\n",
    "        print(f\"Phương trình có nghiệm x = {-b/a}\")\n",
    "    # code above this line\n",
    "solve_equation(4,-3)"
   ]
  },
  {
   "cell_type": "markdown",
   "id": "139cf44d",
   "metadata": {},
   "source": [
    "### Bài 10 (Có HD)"
   ]
  },
  {
   "cell_type": "markdown",
   "id": "c265cdb6",
   "metadata": {},
   "source": [
    "Hãy khai báo kiểu dữ liệu để biểu diễn thông tin của một nhân viên (NHANVIEN). Biết rằng một nhân viên gồm những thành phần sau:</p>\n",
    "– Mã nhân viên: chuỗi tối đa 5 ký tự</p>\n",
    "– Tên nhân viên: chuỗi tối đa 30 ký tự</p>\n",
    "– Lương nhân viên: kiểu số thực</p>\n",
    "Sau đó viết hàm nhập, xuất cho kiểu dữ liệu này"
   ]
  },
  {
   "cell_type": "code",
   "execution_count": 7,
   "id": "5c8f4a9f",
   "metadata": {},
   "outputs": [],
   "source": [
    "# Khai báo dữ liệu bằng Class\n",
    "class NHANVIEN:\n",
    "    def __init__(self, manv, ten, luong):\n",
    "        self.manv = manv\n",
    "        self.ten = ten\n",
    "        self.luong = luong\n",
    "\n",
    "def nhap(nhanvien):\n",
    "#     code below this line\n",
    "    nhanvien.manv = input(\"Nhập mã nhân viên: \")\n",
    "    nhanvien.ten = input(\"Nhập tên nhân viên: \")\n",
    "    nhanvien.luong = float(input(\"Nhập lương nhân viên :\"))\n",
    "#     code above this line\n",
    "\n",
    "def xuat(nhanvien):\n",
    "    # code below this line\n",
    "    print(\"Mã nhân viên:\", nhanvien.manv)\n",
    "    print(\"Tên nhân viên:\",nhanvien.ten)\n",
    "    print(\"Lương nhân viên:\",nhanvien.luong)\n",
    "    # code above this line"
   ]
  },
  {
   "cell_type": "code",
   "execution_count": 32,
   "id": "1a10c319",
   "metadata": {},
   "outputs": [
    {
     "name": "stdout",
     "output_type": "stream",
     "text": [
      "Nhập mã nhân viên: 19\n",
      "Nhập tên nhân viên: Nguyễn Văn A\n",
      "Nhập lương nhân viên: 15000000\n",
      "Mã nhân viên: 19\n",
      "Tên nhân viên: Nguyễn Văn A\n",
      "Lương nhân viên: 15000000.0\n"
     ]
    }
   ],
   "source": [
    "# ví dụ nhập liệu nhân viên\n",
    "nv = NHANVIEN(\" \", \" \", 0)\n",
    "nhap(nv)\n",
    "xuat(nv)"
   ]
  },
  {
   "cell_type": "code",
   "execution_count": null,
   "id": "dca74488",
   "metadata": {},
   "outputs": [],
   "source": []
  }
 ],
 "metadata": {
  "kernelspec": {
   "display_name": "Python 3 (ipykernel)",
   "language": "python",
   "name": "python3"
  },
  "language_info": {
   "codemirror_mode": {
    "name": "ipython",
    "version": 3
   },
   "file_extension": ".py",
   "mimetype": "text/x-python",
   "name": "python",
   "nbconvert_exporter": "python",
   "pygments_lexer": "ipython3",
   "version": "3.9.13"
  }
 },
 "nbformat": 4,
 "nbformat_minor": 5
}
