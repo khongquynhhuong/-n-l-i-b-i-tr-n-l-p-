{
 "cells": [
  {
   "cell_type": "markdown",
   "id": "b78c5385",
   "metadata": {},
   "source": [
    "# Lớp (Class) \n",
    "\n",
    "Class là tập hợp tất cả các đối tượng có chung các thuộc tính và hành vi.\n",
    "Ví dụ: Lớp ô tô có các thuộc tính như màu xe, loại động cơ, hãng sản xuất, loại nhiên liệu tiêu thụ, vận tốc tối đa…\n",
    "    Các hành vi của xe có thể kể đến như chuyển động, chở hàng hóa…\n",
    "\n",
    "Ở thế giới thực, thuộc tính là những tính chất, hình dáng bên ngoài, màu… của đối tượng.\n",
    "Còn hành vi là những chức năng, hành động của đối tượng có thể thực hiện được.\n",
    "\n",
    "Trong ngôn ngữ lập trình Python, thuộc tính chính là dữ liệu của lớp, còn hành vi là các hàm của lớp.\n",
    "Từ đây ta có thể thấy rằng, lớp trong Python là một khái niệm trừu tượng và gồm có 2 thành phần chính: Dữ liệu và hàm"
   ]
  },
  {
   "cell_type": "markdown",
   "id": "8f632ec8",
   "metadata": {},
   "source": [
    "## Cú pháp khai báo lớp"
   ]
  },
  {
   "cell_type": "code",
   "execution_count": null,
   "id": "b04e1472",
   "metadata": {},
   "outputs": [],
   "source": [
    "class Name:\n",
    "    # property\n",
    "    # define function\n",
    "    pass"
   ]
  },
  {
   "cell_type": "markdown",
   "id": "3439eb3d",
   "metadata": {},
   "source": [
    "## Đối tượng\n",
    "Đối tượng là một thể hiện cụ thể nào đó của lớp và nó có đầy đủ các thuộc tính và hành vi của lớp đó. Mỗi đối tượng có những thuộc tính hay những đặc điểm mô tả và những hành vi riêng nhằm phân biệt nó với các đối tượng khác."
   ]
  },
  {
   "cell_type": "code",
   "execution_count": null,
   "id": "fb1e5b6f",
   "metadata": {},
   "outputs": [],
   "source": [
    "class Cat():\n",
    "    pass\n",
    "\n",
    "Hello_Kitty = Cat()"
   ]
  },
  {
   "cell_type": "markdown",
   "id": "74be3438",
   "metadata": {},
   "source": [
    "## Self trong lớp Python\n",
    "Self là một đối tượng cụ thể của lớp. Sử dụng self chúng ta có thể truy xuất đến các thuộc tính và hàm của lớp.\n",
    "Self luôn luôn chỉ đến đối tượng hiện tại.\n",
    "\n",
    "Lưu ý: Self là một tham số chứ không phải là một từ khóa trong Python, chúng ta có thể dùng bất cứ tên nào khác thay thế self ở vị trí của nó."
   ]
  },
  {
   "cell_type": "code",
   "execution_count": null,
   "id": "4d13eb0d",
   "metadata": {},
   "outputs": [],
   "source": [
    "class Cat():\n",
    "    feet = 4\n",
    "    eye = 2\n",
    "    color = 'white'\n",
    "    \n",
    "    def show(self):\n",
    "        print(f'The cat has {self.feet} feet, {self.eye} eyes and {self.color} hair')\n",
    "    \n",
    "    def change_color(self, color):\n",
    "        self.color = color\n",
    "    \n",
    "Hello_Kitty = Cat()\n",
    "Hello_Kitty.show()\n",
    "\n",
    "Hello_Kitty.change_color('pink')\n",
    "Hello_Kitty.show()\n",
    "\n",
    "Hello_Kitty.color = 'red'\n",
    "Hello_Kitty.show()"
   ]
  },
  {
   "cell_type": "markdown",
   "id": "12a11f07",
   "metadata": {},
   "source": [
    "## Constructors (Hàm khởi tạo) \n",
    "Constructors là hàm được sử dụng để khởi tạo đối tượng của lớp. Chức năng chính của hàm khởi tạo là để khởi tạo các giá trị cho \n",
    "các dữ liệu thành viên của lớp (các thuộc tính) khi tạo đối tượng của lớp. Trong Python phương thức `__init__()` luôn \n",
    "được tự động gọi khi tạo đối tượng của lớp."
   ]
  },
  {
   "cell_type": "code",
   "execution_count": null,
   "id": "0aee55ce",
   "metadata": {},
   "outputs": [],
   "source": [
    "def __init__(self,parameter1,parameter2,):\n",
    "    pass"
   ]
  },
  {
   "cell_type": "code",
   "execution_count": null,
   "id": "0bb2754e",
   "metadata": {},
   "outputs": [],
   "source": [
    "class Cat():\n",
    "    def __init__(self, color_hair, color_eye, kind):\n",
    "        self.hair = color_hair\n",
    "        self.eye = color_eye\n",
    "        self.type = kind\n",
    "\n",
    "Doraemon = Cat('None', 'black', 'robot')\n",
    "print(Doraemon.eye)"
   ]
  },
  {
   "cell_type": "markdown",
   "id": "afce9253",
   "metadata": {},
   "source": [
    "## Destructors (Hàm hủy)\n",
    "Hàm hủy được gọi khi hủy đối tượng của lớp. Trong Python hàm hủy đóng vai trò không quan trọng như một số ngôn ngữ khác (như C++ chẳng hạn) vì Python có trình dọn rác (garbage collector) sẽ đảm nhiệm chức năng tự hủy đối tượng khi kết thúc chương trình và quản lý bộ nhớ một cách tự động. Hàm `__del__()` là một hàm hủy trong Python."
   ]
  },
  {
   "cell_type": "code",
   "execution_count": null,
   "id": "b12f567e",
   "metadata": {},
   "outputs": [],
   "source": [
    "class Cat():\n",
    "    def __del__(self):\n",
    "        print('Cat has run away for chasing love!')\n",
    "\n",
    "# Doraemon = Cat()\n",
    "# del Doraemon\n",
    "\n",
    "Doraemon = Cat()"
   ]
  },
  {
   "cell_type": "markdown",
   "id": "07c7f1a8",
   "metadata": {},
   "source": [
    "## Lớp kế thừa\n",
    "Lớp kế thừa là lớp được tạo ra có đầy đủ các thuộc tính, phương thức của một lớp trước đó và có thêm các thuộc tính riêng do lập trình viên tạo ra"
   ]
  },
  {
   "cell_type": "code",
   "execution_count": null,
   "id": "31337fde",
   "metadata": {},
   "outputs": [],
   "source": [
    "class Cat():\n",
    "    def __init__(self, color_hair, color_eye, kind):\n",
    "        self.hair = color_hair\n",
    "        self.eye = color_eye\n",
    "        self.type = kind\n",
    "\n",
    "class RobotCat(Cat):\n",
    "    pass\n",
    "\n",
    "Doraemon = RobotCat('blue','black','robot')\n",
    "print(Doraemon.eye)\n"
   ]
  },
  {
   "cell_type": "markdown",
   "id": "1bfd01c3",
   "metadata": {},
   "source": [
    "## Các phương thức đặc biệt trong lập trình hướng đối tượng Python\n",
    "Các phương thức này là các phương thức có sẵn trong Python, được ghi dưới dạng `__<tên phương thức>__()`. Mỗi phương thức có một chức năng riêng biệt và chúng ta có thể định nghĩa phương thức đó theo ý chúng ta cho mỗi lớp.\n",
    "\n",
    "Tìm hiểu thêm các phương thức đặc biệt tại:\n",
    "https://docs.python.org/3/reference/datamodel.html"
   ]
  },
  {
   "cell_type": "code",
   "execution_count": null,
   "id": "bec2ecb2",
   "metadata": {},
   "outputs": [],
   "source": [
    "# Ví dụ về hàm __add__()\n",
    "a = 3\n",
    "a.__add__(7)"
   ]
  },
  {
   "cell_type": "code",
   "execution_count": null,
   "id": "4a249fcc",
   "metadata": {},
   "outputs": [],
   "source": [
    "class PhanSo():\n",
    "    def __init__(self,a,b):\n",
    "        self.a = a\n",
    "        self.b = b\n",
    "        if b == 0:\n",
    "            raise TypeError('Denominator cann\\'t be zero')\n",
    "    \n",
    "    def __str__(self):\n",
    "        return f'{self.a}/{self.b}'\n",
    "    \n",
    "    def reduce(self):\n",
    "        a = self.a\n",
    "        b = self.b\n",
    "        ucln = 1\n",
    "        for i in range(1,min(abs(a),abs(b))+1):\n",
    "            if i > ucln and a%i==0 and b%i==0:\n",
    "                ucln=i\n",
    "        a = a//ucln\n",
    "        b = b//ucln\n",
    "        return PhanSo(a,b)\n",
    "    \n",
    "    def __add__(self, o):\n",
    "        a = self.a*o.b + self.b*o.a\n",
    "        b = self.b*o.b\n",
    "        return PhanSo(a,b).reduce()\n",
    "            \n",
    "    def __sub__(self, o):\n",
    "        a = self.a*o.b - self.b*o.a\n",
    "        b = self.b*o.b\n",
    "        return PhanSo(a,b).reduce()\n",
    "    \n",
    "    def __mul__(self, o):\n",
    "        a = self.a * o.a\n",
    "        b = self.b * o.b\n",
    "        return PhanSo(a,b).reduce()\n",
    "    \n",
    "    def __truediv__(self, o):\n",
    "        a = self.a * o.b\n",
    "        b = self.b * o.a\n",
    "        return PhanSo(a,b).reduce()"
   ]
  },
  {
   "cell_type": "code",
   "execution_count": null,
   "id": "5c0da6d4",
   "metadata": {},
   "outputs": [],
   "source": [
    "a = PhanSo(3,4)\n",
    "b = PhanSo(5,7)\n",
    "print(a+b)"
   ]
  },
  {
   "cell_type": "markdown",
   "id": "248cd9e7",
   "metadata": {},
   "source": [
    "## Tính bao gói\n",
    "Khả năng truy suất vào các thành phần của một đối tượng trong khi vẫn đảm bảo che giấu các đặc tính riêng tư bên trong đối tượng được gọi là tính bao gói."
   ]
  },
  {
   "cell_type": "code",
   "execution_count": 2,
   "id": "aedea8fc",
   "metadata": {},
   "outputs": [
    {
     "name": "stdout",
     "output_type": "stream",
     "text": [
      "Cat has 4 feet\n",
      "Cat has 3 feet\n"
     ]
    }
   ],
   "source": [
    "class Cat:\n",
    "    def __init__(self):\n",
    "        self.__feet = 4\n",
    "        \n",
    "    def show_leg(self):\n",
    "        print(f'Cat has {self.__feet} feet')\n",
    "        \n",
    "    def broke_leg(self, feet):\n",
    "        self.__feet = feet\n",
    "        \n",
    "Na = Cat()\n",
    "Na.__feet = 3\n",
    "Na.show_leg()\n",
    "Na.broke_leg(3)\n",
    "Na.show_leg()"
   ]
  },
  {
   "cell_type": "markdown",
   "id": "364de028",
   "metadata": {},
   "source": [
    "## Tính kế thừa\n",
    "Tính kế thừa cho phép các đối tượng có thể chia sẻ hay mở rộng các thuộc tính hoặc phương thức mà không phải tiến hành định nghĩa lại."
   ]
  },
  {
   "cell_type": "code",
   "execution_count": null,
   "id": "a066911d",
   "metadata": {},
   "outputs": [],
   "source": [
    "class Cat():\n",
    "    def __init__(self, color_hair, color_eye, kind):\n",
    "        self.hair = color_hair\n",
    "        self.eye = color_eye\n",
    "        self.type = kind\n",
    "\n",
    "class RobotCat(Cat):\n",
    "    pass\n",
    "\n",
    "Doraemon = RobotCat('blue','black','robot')\n",
    "print(Doraemon.eye)"
   ]
  },
  {
   "cell_type": "markdown",
   "id": "e3a867ef",
   "metadata": {},
   "source": [
    "## Tính trừu tượng\n",
    "Loại bỏ những thuộc tính và hành vi không quan trọng của đối tượng, chỉ giữ lại những thuộc tính và hành vi có liên quan đến vấn đề đang giải quyết"
   ]
  },
  {
   "cell_type": "code",
   "execution_count": null,
   "id": "83f55bcf",
   "metadata": {},
   "outputs": [],
   "source": [
    "class Animal():\n",
    "\n",
    "    @abstractmethod\n",
    "    def run(self):\n",
    "        pass\n",
    "\n",
    "    @abstractmethod\n",
    "    def eat(self):\n",
    "        pass\n",
    "\n",
    "class Cat(Animal):\n",
    "    def run(self):\n",
    "        print(\"Cats run with 4 feet\")\n",
    "\n",
    "    def eat(self):\n",
    "        print(\"Cats eat mice\")"
   ]
  },
  {
   "cell_type": "markdown",
   "id": "771fd485",
   "metadata": {},
   "source": [
    "## Tính đa hình\n",
    "Tính đa hình thể hiện khi với cùng một phương thức nhưng có thể có cách ứng xử khác nhau ở những lớp cùng giao diện"
   ]
  },
  {
   "cell_type": "code",
   "execution_count": 3,
   "id": "2b691164",
   "metadata": {},
   "outputs": [
    {
     "name": "stdout",
     "output_type": "stream",
     "text": [
      "Meow\n",
      "Gau\n"
     ]
    }
   ],
   "source": [
    "class Cat:\n",
    "    def speak(self):\n",
    "        print('Meow')\n",
    "\n",
    "class Dog:\n",
    "    def speak(self):\n",
    "        print('Gau')\n",
    "\n",
    "def speak(animal):\n",
    "    animal.speak()\n",
    "    \n",
    "Na = Cat()\n",
    "Lu = Dog()\n",
    "speak(Na)\n",
    "speak(Lu)"
   ]
  }
 ],
 "metadata": {
  "kernelspec": {
   "display_name": "Python 3 (ipykernel)",
   "language": "python",
   "name": "python3"
  },
  "language_info": {
   "codemirror_mode": {
    "name": "ipython",
    "version": 3
   },
   "file_extension": ".py",
   "mimetype": "text/x-python",
   "name": "python",
   "nbconvert_exporter": "python",
   "pygments_lexer": "ipython3",
   "version": "3.9.13"
  },
  "vscode": {
   "interpreter": {
    "hash": "9deea79bfd8769c20cdb41e577c31349975f53057f7c4a88718c49dab3f025eb"
   }
  }
 },
 "nbformat": 4,
 "nbformat_minor": 5
}
